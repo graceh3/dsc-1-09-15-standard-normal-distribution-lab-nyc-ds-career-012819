{
 "cells": [
  {
   "cell_type": "markdown",
   "metadata": {},
   "source": [
    "# Standard Normal Distribution - Lab\n",
    "\n",
    "## Introduction\n",
    "\n",
    "In the previous lesson, we looked at the formula and a few toy examples to explain an observation's standard score and data standardization for normally distributed data. This lab, will shall standardize and visualize some normal distributions before we see standardization's real impact in machine learning in upcoming lessons. \n",
    "\n",
    "## Objectives\n",
    "\n",
    "You will be able to:\n",
    "\n",
    "* Calculate and interpret z-scores for observations\n",
    "* Visualize the data before-after standardization to visually inspect the results. \n",
    "\n",
    "## Let's get started\n",
    "\n",
    "> A Z-score tells us “how many standard deviations above or below the mean.” Every time you obtain a Z-score, use “above” or “below” in your phrasing."
   ]
  },
  {
   "cell_type": "markdown",
   "metadata": {},
   "source": [
    "The yields of apples trees in an orchard has been recorded in the file `yield.csv`. Each observation is recorded by weighing apples from trees (in pounds) and adding their weights. There are 5000 observations in total for this data. \n",
    "\n",
    "**1. Load, visualize and give general comments on the dataset. Use pandas for loading and inspecting the data.**"
   ]
  },
  {
   "cell_type": "code",
   "execution_count": 39,
   "metadata": {},
   "outputs": [
    {
     "data": {
      "text/plain": [
       "0       39.741234\n",
       "1       39.872055\n",
       "2       44.331164\n",
       "3       46.600623\n",
       "4       40.694984\n",
       "5       40.969819\n",
       "6       48.981105\n",
       "7       43.240146\n",
       "8       46.301977\n",
       "9       45.380994\n",
       "10      37.532947\n",
       "11      47.983207\n",
       "12      45.616207\n",
       "13      40.053668\n",
       "14      42.577577\n",
       "15      39.532416\n",
       "16      44.545678\n",
       "17      37.406899\n",
       "18      35.350919\n",
       "19      50.087628\n",
       "20      47.869013\n",
       "21      40.158646\n",
       "22      37.642567\n",
       "23      46.679956\n",
       "24      37.235307\n",
       "25      48.808625\n",
       "26      38.398650\n",
       "27      44.283441\n",
       "28      48.710395\n",
       "29      42.667578\n",
       "          ...    \n",
       "4970    40.104743\n",
       "4971    41.843731\n",
       "4972    43.729273\n",
       "4973    37.338502\n",
       "4974    52.414078\n",
       "4975    41.324125\n",
       "4976    30.338607\n",
       "4977    45.240192\n",
       "4978    47.836186\n",
       "4979    34.587279\n",
       "4980    48.173983\n",
       "4981    39.645721\n",
       "4982    42.308308\n",
       "4983    45.928654\n",
       "4984    36.676251\n",
       "4985    35.087270\n",
       "4986    35.590585\n",
       "4987    39.652516\n",
       "4988    42.195203\n",
       "4989    33.931533\n",
       "4990    44.899866\n",
       "4991    37.517242\n",
       "4992    47.196532\n",
       "4993    36.313816\n",
       "4994    38.512634\n",
       "4995    39.037750\n",
       "4996    51.861086\n",
       "4997    36.441352\n",
       "4998    42.549280\n",
       "4999    34.798407\n",
       "Name: 0, Length: 5000, dtype: float64"
      ]
     },
     "execution_count": 39,
     "metadata": {},
     "output_type": "execute_result"
    }
   ],
   "source": [
    "# Import libraries\n",
    "import csv\n",
    "import matplotlib.pyplot as plt\n",
    "import numpy as np\n",
    "import pandas as pd\n",
    "\n",
    "# Read the yield data as a dataframe\n",
    "df = pd.read_csv('yield.csv')\n",
    "df.describe()\n",
    "df.head()\n",
    "df['0']"
   ]
  },
  {
   "cell_type": "code",
   "execution_count": 10,
   "metadata": {},
   "outputs": [
    {
     "data": {
      "text/plain": [
       "<matplotlib.axes._subplots.AxesSubplot at 0x7f8262aa6080>"
      ]
     },
     "execution_count": 10,
     "metadata": {},
     "output_type": "execute_result"
    },
    {
     "data": {
      "image/png": "[encoded data removed]",
      "text/plain": [
       "<Figure size 432x288 with 1 Axes>"
      ]
     },
     "metadata": {
      "needs_background": "light"
     },
     "output_type": "display_data"
    }
   ],
   "source": [
    "df.plot.hist(bins = 50)"
   ]
  },
  {
   "cell_type": "code",
   "execution_count": 35,
   "metadata": {},
   "outputs": [],
   "source": [
    "# Your comments about the data here. \n",
    "# Data looks normally distributed. Mean is 42.407 pounds and standard deviation is 6 pounds.\n"
   ]
  },
  {
   "cell_type": "markdown",
   "metadata": {},
   "source": [
    "**2. Write a simple sentence to explain what does each value represent in this data?**"
   ]
  },
  {
   "cell_type": "code",
   "execution_count": null,
   "metadata": {},
   "outputs": [],
   "source": [
    "# Your answer here\n",
    "# Mean is the average of all observations, standard deviation is a way to measure the overall data spread\n",
    "# in an interval that breaks down to 1, 2, and 3 standard deviations that aligns with the 3-sigma rule."
   ]
  },
  {
   "cell_type": "markdown",
   "metadata": {},
   "source": [
    "**3. What does the 3-sigma rule say about yields of trees ?**"
   ]
  },
  {
   "cell_type": "code",
   "execution_count": 19,
   "metadata": {},
   "outputs": [
    {
     "name": "stdout",
     "output_type": "stream",
     "text": [
      "1 standard deviation: (36.407, 48.407)\n",
      "2 standard deviations: (30.406999999999996, 54.407)\n",
      "3 standard deviations: (24.406999999999996, 60.407)\n"
     ]
    }
   ],
   "source": [
    "# Perform any calculations necessary here\n",
    "mean = 42.407\n",
    "sd = 6\n",
    "std_dev1 = (mean-sd, mean+sd)\n",
    "std_dev2 = (mean-(2*sd), mean+(2*sd))\n",
    "std_dev3 = (mean-(3*sd), mean+(3*sd))\n",
    "print(\"1 standard deviation: {}\\n2 standard deviations: {}\\n3 standard deviations: {}\".format(std_dev1, std_dev2, std_dev3))"
   ]
  },
  {
   "cell_type": "code",
   "execution_count": 20,
   "metadata": {},
   "outputs": [],
   "source": [
    "# Write your answer here \n",
    "# 68% of tree yields will fall within 1 standard deviation from the mean\n",
    "# 95% will fall within 2 standard deviations from the mean, and\n",
    "# 99.7% will fall within 3 standard deviations from the mean\n",
    "# See output above for details on the weight range"
   ]
  },
  {
   "cell_type": "markdown",
   "metadata": {},
   "source": [
    "**4. Compute the Z-score for a tree yielding 35 pounds of apples. Interpret this Z-score.**"
   ]
  },
  {
   "cell_type": "code",
   "execution_count": 22,
   "metadata": {},
   "outputs": [
    {
     "data": {
      "text/plain": [
       "-1.2344999999999995"
      ]
     },
     "execution_count": 22,
     "metadata": {},
     "output_type": "execute_result"
    }
   ],
   "source": [
    "# Calculate z\n",
    "x = 35\n",
    "z_score = (35 - mean) / sd\n",
    "z_score"
   ]
  },
  {
   "cell_type": "code",
   "execution_count": 3,
   "metadata": {},
   "outputs": [],
   "source": [
    "# Interpret the result\n",
    "# A tree yield 35 pournds of apples is 1.235 standard deviations below the mean (42.407 pounds)"
   ]
  },
  {
   "cell_type": "markdown",
   "metadata": {},
   "source": [
    "**5. Suppose a tree has a Z-score of 1.85. Interpret this Z-score. What is the yield of this tree?**\n"
   ]
  },
  {
   "cell_type": "code",
   "execution_count": 4,
   "metadata": {},
   "outputs": [],
   "source": [
    "# Interpret the z score\n",
    "# This means tree's yield is 1.85 standard deviations above the mean"
   ]
  },
  {
   "cell_type": "code",
   "execution_count": 23,
   "metadata": {},
   "outputs": [
    {
     "data": {
      "text/plain": [
       "53.507"
      ]
     },
     "execution_count": 23,
     "metadata": {},
     "output_type": "execute_result"
    }
   ],
   "source": [
    "# Calculate yield\n",
    "z = 1.85\n",
    "x = mean + z*sd\n",
    "x"
   ]
  },
  {
   "cell_type": "code",
   "execution_count": 6,
   "metadata": {},
   "outputs": [],
   "source": [
    "# What is the yield ?\n",
    "# This tree has a yield of 53.507 pounds."
   ]
  },
  {
   "cell_type": "markdown",
   "metadata": {},
   "source": [
    "**6. Convert each tree’s yield is converted to a Z-score so that “new” derived variable is “Z-score for weight”. The units are still the apple trees. For the data set of all Z-scores:**\n",
    "* What is the shape? \n",
    "* The mean? \n",
    "* The standard deviation?"
   ]
  },
  {
   "cell_type": "code",
   "execution_count": 48,
   "metadata": {},
   "outputs": [],
   "source": [
    "import seaborn as sns"
   ]
  },
  {
   "cell_type": "code",
   "execution_count": 58,
   "metadata": {},
   "outputs": [
    {
     "name": "stderr",
     "output_type": "stream",
     "text": [
      "/opt/conda/envs/learn-env/lib/python3.6/site-packages/scipy/stats/stats.py:1713: FutureWarning: Using a non-tuple sequence for multidimensional indexing is deprecated; use `arr[tuple(seq)]` instead of `arr[seq]`. In the future this will be interpreted as an array index, `arr[np.array(seq)]`, which will result either in an error or a different result.\n",
      "  return np.add.reduce(sorted[indexer] * weights, axis=axis) / sumval\n"
     ]
    },
    {
     "name": "stdout",
     "output_type": "stream",
     "text": [
      "Mean:  0.0\n",
      "Std dev:  1.0\n"
     ]
    },
    {
     "data": {
      "image/png": "[encoded data removed]",
      "text/plain": [
       "<Figure size 432x288 with 1 Axes>"
      ]
     },
     "metadata": {
      "needs_background": "light"
     },
     "output_type": "display_data"
    }
   ],
   "source": [
    "# Give your solution here \n",
    "z_scores = [(x - df.mean()) / df.std() for x in df]\n",
    "z_scores\n",
    "sns.distplot(z_scores, bins = 50)\n",
    "print(\"Mean: \", round(np.mean(z_scores)))\n",
    "print(\"Std dev: \", round(np.std(z_scores)))"
   ]
  },
  {
   "cell_type": "code",
   "execution_count": null,
   "metadata": {},
   "outputs": [],
   "source": [
    "# Your observations\n",
    "# Now a standard normal distribution where the meean = 0 and standard dev = 1."
   ]
  },
  {
   "cell_type": "markdown",
   "metadata": {},
   "source": [
    "## Summary \n",
    "\n",
    "In this lab, you practiced your knowledge on the standard normal distribution!"
   ]
  }
 ],
 "metadata": {
  "kernelspec": {
   "display_name": "Python 3",
   "language": "python",
   "name": "python3"
  },
  "language_info": {
   "codemirror_mode": {
    "name": "ipython",
    "version": 3
   },
   "file_extension": ".py",
   "mimetype": "text/x-python",
   "name": "python",
   "nbconvert_exporter": "python",
   "pygments_lexer": "ipython3",
   "version": "3.6.6"
  }
 },
 "nbformat": 4,
 "nbformat_minor": 2
}
